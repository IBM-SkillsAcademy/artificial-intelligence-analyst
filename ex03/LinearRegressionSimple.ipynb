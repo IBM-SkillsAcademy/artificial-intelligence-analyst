{
 "cells": [
  {
   "cell_type": "code",
   "execution_count": null,
   "metadata": {},
   "outputs": [],
   "source": [
    "#Import required libraries\n",
    "import matplotlib.pyplot as plt\n",
    "import numpy as np\n",
    "from sklearn import datasets, linear_model\n",
    "from sklearn.metrics import mean_squared_error, r2_score\n"
   ]
  },
  {
   "cell_type": "code",
   "execution_count": null,
   "metadata": {},
   "outputs": [],
   "source": [
    "# Split the data into training/testing sets\n",
    "X_train =np.array([1,2,4,3,5,6,7,8,8])\n",
    "X_test = np.array([3,9,7,5])\n",
    "# Split the targets into training/testing sets\n",
    "y_train = np.array([1,3,6,4,5,5,6,7,6])\n",
    "y_test = np.array([5,7,5,3])\n",
    "#Plot the data to see how it looks\n",
    "plt.scatter(X_train, y_train,  color='black')\n"
   ]
  },
  {
   "cell_type": "code",
   "execution_count": null,
   "metadata": {},
   "outputs": [],
   "source": [
    "# Create linear regression object\n",
    "regr = linear_model.LinearRegression()\n",
    "\n",
    "# Train the model using the training sets\n",
    "regr.fit(X_train[:, np.newaxis], y_train[:, np.newaxis])\n",
    "\n",
    "# Make predictions using the testing set\n",
    "y_pred = regr.predict(X_test[:, np.newaxis])\n",
    "\n",
    "# The coefficients\n",
    "print('Coefficients: \\n', regr.coef_)\n",
    "print('Intercept: \\n',regr.intercept_ )\n",
    "# The mean squared error\n",
    "print(\"Mean squared error: %.2f\"\n",
    "      % mean_squared_error(y_test, y_pred))"
   ]
  },
  {
   "cell_type": "code",
   "execution_count": null,
   "metadata": {},
   "outputs": [],
   "source": [
    "# Plot outputs\n",
    "allXvalues = np.concatenate((X_train,X_test), axis=0)\n",
    "allYvalues = np.concatenate((y_train,y_test), axis=0)\n",
    "plt.scatter(allXvalues, allYvalues,  color='black')\n",
    "plt.scatter(X_test,y_pred,  color='red')\n",
    "plt.plot(X_test, y_pred, color='blue', linewidth=3)\n",
    "\n",
    "plt.xticks(())\n",
    "plt.yticks(())\n",
    "\n",
    "plt.show()"
   ]
  }
 ],
 "metadata": {
  "kernelspec": {
   "display_name": "Python 3.9",
   "language": "python",
   "name": "python3"
  },
  "language_info": {
   "codemirror_mode": {
    "name": "ipython",
    "version": 3
   },
   "file_extension": ".py",
   "mimetype": "text/x-python",
   "name": "python",
   "nbconvert_exporter": "python",
   "pygments_lexer": "ipython3",
   "version": "3.9.7"
  }
 },
 "nbformat": 4,
 "nbformat_minor": 1
}
