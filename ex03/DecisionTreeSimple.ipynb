{
 "cells": [
  {
   "cell_type": "code",
   "execution_count": null,
   "metadata": {},
   "outputs": [],
   "source": [
    "#install graphviz for tree visualization\n",
    "!pip install graphviz"
   ]
  },
  {
   "cell_type": "code",
   "execution_count": null,
   "metadata": {},
   "outputs": [],
   "source": [
    "#import required libraries\n",
    "from sklearn.tree import DecisionTreeClassifier \n",
    "from sklearn import tree \n",
    "from sklearn.preprocessing import LabelEncoder \n",
    "from sklearn.tree import export_graphviz\n",
    "from graphviz import Source\n",
    "from IPython.display import SVG\n",
    "import pandas as pd \n",
    "import numpy as np \n",
    "import io\n",
    "import requests"
   ]
  },
  {
   "cell_type": "code",
   "execution_count": null,
   "metadata": {},
   "outputs": [],
   "source": [
    "#Read training Dataset \n",
    "url=\"https://raw.githubusercontent.com/dinasayed/mavenFirst/master/mavenFirst/PlayerFittness.csv\"\n",
    "df=pd.read_csv(url)\n",
    "print(df)"
   ]
  },
  {
   "cell_type": "code",
   "execution_count": null,
   "metadata": {},
   "outputs": [],
   "source": [
    "# Prepare your dataset \n",
    "lb = LabelEncoder() \n",
    "df['Practice_'] = lb.fit_transform(df['Practice']) \n",
    "df['Abid_Dietary_'] = lb.fit_transform(df['Abid_Dietary'] ) \n",
    "df['IsMotivated_'] = lb.fit_transform(df['IsMotivated'] )  \n",
    "df['IsFit_'] = lb.fit_transform(df['IsFit'] ) \n",
    "X = df.iloc[:,4:7] \n",
    "Y = df.iloc[:,7]\n",
    "print(\"Features in numeric form\")\n",
    "print(X)\n",
    "print(\"*********************************************\")\n",
    "print(\"Label in numeric form\")\n",
    "print(Y)\n",
    "# Prepare a testcase\n",
    "X_test=[[0 for x in range(3)] for y in range(1)]\n",
    "X_test[0][0]=2\n",
    "X_test[0][1]=1\n",
    "X_test[0][2]=1\n",
    "#Train a Decision tree\n",
    "d_tree = DecisionTreeClassifier(criterion='entropy')\n",
    "d_tree.fit(X.values.astype(int), Y.values.astype(int))\n",
    "#Test using sample test X_test\n",
    "y_pred_en = d_tree.predict(X_test)\n",
    "#The prediction for X-test\n",
    "print(\"The prediction result for test case, given features are: practice is moderate, Abid_Dietary is yes and  IsMotivated is yes\")\n",
    "print(y_pred_en)\n",
    "\n",
    "X_test"
   ]
  },
  {
   "cell_type": "code",
   "execution_count": null,
   "metadata": {},
   "outputs": [],
   "source": [
    "#Visualize the decision tree\n",
    "graph = Source(export_graphviz(d_tree, out_file=None, feature_names=X.columns))\n",
    "SVG(graph.pipe(format='svg'))"
   ]
  },
  {
   "cell_type": "code",
   "execution_count": null,
   "metadata": {},
   "outputs": [],
   "source": []
  }
 ],
 "metadata": {
  "kernelspec": {
   "display_name": "Python 3.9",
   "language": "python",
   "name": "python3"
  },
  "language_info": {
   "codemirror_mode": {
    "name": "ipython",
    "version": 3
   },
   "file_extension": ".py",
   "mimetype": "text/x-python",
   "name": "python",
   "nbconvert_exporter": "python",
   "pygments_lexer": "ipython3",
   "version": "3.9.7"
  }
 },
 "nbformat": 4,
 "nbformat_minor": 1
}
