{
 "cells": [
  {
   "cell_type": "code",
   "execution_count": 1,
   "metadata": {},
   "outputs": [
    {
     "name": "stdout",
     "output_type": "stream",
     "text": [
      "Collecting graphviz\n",
      "  Downloading https://files.pythonhosted.org/packages/47/87/313cd4ea4f75472826acb74c57f94fc83e04ba93e4ccf35656f6b7f502e2/graphviz-0.9-py2.py3-none-any.whl\n",
      "\u001b[31mnotebook 5.0.0 requires nbconvert, which is not installed.\u001b[0m\n",
      "\u001b[31mipywidgets 6.0.0 requires widgetsnbextension~=2.0.0, which is not installed.\u001b[0m\n",
      "\u001b[31mtensorflow 1.3.0 requires tensorflow-tensorboard<0.2.0,>=0.1.0, which is not installed.\u001b[0m\n",
      "Installing collected packages: graphviz\n",
      "Successfully installed graphviz-0.9\n"
     ]
    }
   ],
   "source": [
    "#install graphviz for tree visualization\n",
    "!pip install graphviz"
   ]
  },
  {
   "cell_type": "code",
   "execution_count": 3,
   "metadata": {},
   "outputs": [],
   "source": [
    "#import required libraries\n",
    "from sklearn.tree import DecisionTreeClassifier \n",
    "from sklearn import tree \n",
    "from sklearn.preprocessing import LabelEncoder \n",
    "from sklearn.tree import export_graphviz\n",
    "from graphviz import Source\n",
    "from IPython.display import SVG\n",
    "import pandas as pd \n",
    "import numpy as np \n",
    "import io\n",
    "import requests"
   ]
  },
  {
   "cell_type": "code",
   "execution_count": 5,
   "metadata": {},
   "outputs": [
    {
     "name": "stdout",
     "output_type": "stream",
     "text": [
      "   Practice Abid_Dietary IsMotivated IsFit\n",
      "0  Moderate          Yes         Yes   Yes\n",
      "1      good           No         Yes   Yes\n",
      "2        No           No         Yes    No\n",
      "3  Moderate           No          No    No\n",
      "4  Moderate           No         Yes   Yes\n",
      "5  Moderate           No         Yes   Yes\n",
      "6        No          Yes          No    No\n",
      "7      good          Yes          No    No\n"
     ]
    }
   ],
   "source": [
    "#Read training Dataset \n",
    "url=\"https://raw.githubusercontent.com/dinasayed/mavenFirst/master/mavenFirst/PlayerFittness.csv\"\n",
    "df=pd.read_csv(url)\n",
    "print(df)"
   ]
  },
  {
   "cell_type": "code",
   "execution_count": 6,
   "metadata": {},
   "outputs": [
    {
     "name": "stdout",
     "output_type": "stream",
     "text": [
      "Features in numeric form\n",
      "   Practice_  Abid_Dietary_  IsMotivated_\n",
      "0          0              1             1\n",
      "1          2              0             1\n",
      "2          1              0             1\n",
      "3          0              0             0\n",
      "4          0              0             1\n",
      "5          0              0             1\n",
      "6          1              1             0\n",
      "7          2              1             0\n",
      "*********************************************\n",
      "Label in numeric form\n",
      "0    1\n",
      "1    1\n",
      "2    0\n",
      "3    0\n",
      "4    1\n",
      "5    1\n",
      "6    0\n",
      "7    0\n",
      "Name: IsFit_, dtype: int64\n",
      "The prediction result for test case, given features are: practice is moderate, Abid_Dietary is yes and  IsMotivated is yes\n",
      "[1]\n"
     ]
    }
   ],
   "source": [
    "# Prepare your dataset \n",
    "lb = LabelEncoder() \n",
    "df['Practice_'] = lb.fit_transform(df['Practice']) \n",
    "df['Abid_Dietary_'] = lb.fit_transform(df['Abid_Dietary'] ) \n",
    "df['IsMotivated_'] = lb.fit_transform(df['IsMotivated'] )  \n",
    "df['IsFit_'] = lb.fit_transform(df['IsFit'] ) \n",
    "X = df.iloc[:,4:7] \n",
    "Y = df.iloc[:,7]\n",
    "print(\"Features in numeric form\")\n",
    "print(X)\n",
    "print(\"*********************************************\")\n",
    "print(\"Label in numeric form\")\n",
    "print(Y)\n",
    "# Prepare a testcase\n",
    "X_test=[[0 for x in range(3)] for y in range(1)]\n",
    "X_test[0][0]=2\n",
    "X_test[0][1]=1\n",
    "X_test[0][2]=1\n",
    "#Train a Decision tree\n",
    "d_tree = DecisionTreeClassifier(criterion='entropy')\n",
    "d_tree.fit(X.astype(int), Y.astype(int))\n",
    "#Test using sample test X_test\n",
    "y_pred_en = d_tree.predict(X_test)\n",
    "#The prediction for X-test\n",
    "print(\"The prediction result for test case, given features are: practice is moderate, Abid_Dietary is yes and  IsMotivated is yes\")\n",
    "print(y_pred_en)\n",
    "\n"
   ]
  },
  {
   "cell_type": "code",
   "execution_count": 7,
   "metadata": {},
   "outputs": [
    {
     "data": {
      "image/svg+xml": [
       "<svg height=\"374pt\" viewBox=\"0.00 0.00 332.00 374.00\" width=\"332pt\" xmlns=\"http://www.w3.org/2000/svg\" xmlns:xlink=\"http://www.w3.org/1999/xlink\">\n",
       "<g class=\"graph\" id=\"graph0\" transform=\"scale(1 1) rotate(0) translate(4 370)\">\n",
       "<title>Tree</title>\n",
       "<polygon fill=\"white\" points=\"-4,5 -4,-370 329,-370 329,5 -4,5\" stroke=\"white\"/>\n",
       "<!-- 0 -->\n",
       "<g class=\"node\" id=\"node1\"><title>0</title>\n",
       "<polygon fill=\"none\" points=\"170.25,-366 39.75,-366 39.75,-298 170.25,-298 170.25,-366\" stroke=\"black\"/>\n",
       "<text font-family=\"Times,serif\" font-size=\"14.00\" text-anchor=\"middle\" x=\"105\" y=\"-350.8\">IsMotivated_ &lt;= 0.5</text>\n",
       "<text font-family=\"Times,serif\" font-size=\"14.00\" text-anchor=\"middle\" x=\"105\" y=\"-335.8\">entropy = 1.0</text>\n",
       "<text font-family=\"Times,serif\" font-size=\"14.00\" text-anchor=\"middle\" x=\"105\" y=\"-320.8\">samples = 8</text>\n",
       "<text font-family=\"Times,serif\" font-size=\"14.00\" text-anchor=\"middle\" x=\"105\" y=\"-305.8\">value = [4, 4]</text>\n",
       "</g>\n",
       "<!-- 1 -->\n",
       "<g class=\"node\" id=\"node2\"><title>1</title>\n",
       "<polygon fill=\"none\" points=\"92,-254.5 0,-254.5 0,-201.5 92,-201.5 92,-254.5\" stroke=\"black\"/>\n",
       "<text font-family=\"Times,serif\" font-size=\"14.00\" text-anchor=\"middle\" x=\"46\" y=\"-239.3\">entropy = 0.0</text>\n",
       "<text font-family=\"Times,serif\" font-size=\"14.00\" text-anchor=\"middle\" x=\"46\" y=\"-224.3\">samples = 3</text>\n",
       "<text font-family=\"Times,serif\" font-size=\"14.00\" text-anchor=\"middle\" x=\"46\" y=\"-209.3\">value = [3, 0]</text>\n",
       "</g>\n",
       "<!-- 0&#45;&gt;1 -->\n",
       "<g class=\"edge\" id=\"edge1\"><title>0-&gt;1</title>\n",
       "<path d=\"M85.8444,-297.884C79.4193,-286.776 72.2445,-274.372 65.773,-263.184\" fill=\"none\" stroke=\"black\"/>\n",
       "<polygon fill=\"black\" points=\"68.7983,-261.424 60.7615,-254.52 62.7389,-264.929 68.7983,-261.424\" stroke=\"black\"/>\n",
       "<text font-family=\"Times,serif\" font-size=\"14.00\" text-anchor=\"middle\" x=\"54.3106\" y=\"-274.973\">True</text>\n",
       "</g>\n",
       "<!-- 2 -->\n",
       "<g class=\"node\" id=\"node3\"><title>2</title>\n",
       "<polygon fill=\"none\" points=\"218,-262 110,-262 110,-194 218,-194 218,-262\" stroke=\"black\"/>\n",
       "<text font-family=\"Times,serif\" font-size=\"14.00\" text-anchor=\"middle\" x=\"164\" y=\"-246.8\">Practice_ &lt;= 0.5</text>\n",
       "<text font-family=\"Times,serif\" font-size=\"14.00\" text-anchor=\"middle\" x=\"164\" y=\"-231.8\">entropy = 0.722</text>\n",
       "<text font-family=\"Times,serif\" font-size=\"14.00\" text-anchor=\"middle\" x=\"164\" y=\"-216.8\">samples = 5</text>\n",
       "<text font-family=\"Times,serif\" font-size=\"14.00\" text-anchor=\"middle\" x=\"164\" y=\"-201.8\">value = [1, 4]</text>\n",
       "</g>\n",
       "<!-- 0&#45;&gt;2 -->\n",
       "<g class=\"edge\" id=\"edge2\"><title>0-&gt;2</title>\n",
       "<path d=\"M124.156,-297.884C129.102,-289.332 134.492,-280.013 139.664,-271.072\" fill=\"none\" stroke=\"black\"/>\n",
       "<polygon fill=\"black\" points=\"142.761,-272.708 144.739,-262.299 136.702,-269.203 142.761,-272.708\" stroke=\"black\"/>\n",
       "<text font-family=\"Times,serif\" font-size=\"14.00\" text-anchor=\"middle\" x=\"151.19\" y=\"-282.753\">False</text>\n",
       "</g>\n",
       "<!-- 3 -->\n",
       "<g class=\"node\" id=\"node4\"><title>3</title>\n",
       "<polygon fill=\"none\" points=\"151,-150.5 59,-150.5 59,-97.5 151,-97.5 151,-150.5\" stroke=\"black\"/>\n",
       "<text font-family=\"Times,serif\" font-size=\"14.00\" text-anchor=\"middle\" x=\"105\" y=\"-135.3\">entropy = 0.0</text>\n",
       "<text font-family=\"Times,serif\" font-size=\"14.00\" text-anchor=\"middle\" x=\"105\" y=\"-120.3\">samples = 3</text>\n",
       "<text font-family=\"Times,serif\" font-size=\"14.00\" text-anchor=\"middle\" x=\"105\" y=\"-105.3\">value = [0, 3]</text>\n",
       "</g>\n",
       "<!-- 2&#45;&gt;3 -->\n",
       "<g class=\"edge\" id=\"edge3\"><title>2-&gt;3</title>\n",
       "<path d=\"M144.844,-193.884C138.419,-182.776 131.245,-170.372 124.773,-159.184\" fill=\"none\" stroke=\"black\"/>\n",
       "<polygon fill=\"black\" points=\"127.798,-157.424 119.762,-150.52 121.739,-160.929 127.798,-157.424\" stroke=\"black\"/>\n",
       "</g>\n",
       "<!-- 4 -->\n",
       "<g class=\"node\" id=\"node5\"><title>4</title>\n",
       "<polygon fill=\"none\" points=\"277,-158 169,-158 169,-90 277,-90 277,-158\" stroke=\"black\"/>\n",
       "<text font-family=\"Times,serif\" font-size=\"14.00\" text-anchor=\"middle\" x=\"223\" y=\"-142.8\">Practice_ &lt;= 1.5</text>\n",
       "<text font-family=\"Times,serif\" font-size=\"14.00\" text-anchor=\"middle\" x=\"223\" y=\"-127.8\">entropy = 1.0</text>\n",
       "<text font-family=\"Times,serif\" font-size=\"14.00\" text-anchor=\"middle\" x=\"223\" y=\"-112.8\">samples = 2</text>\n",
       "<text font-family=\"Times,serif\" font-size=\"14.00\" text-anchor=\"middle\" x=\"223\" y=\"-97.8\">value = [1, 1]</text>\n",
       "</g>\n",
       "<!-- 2&#45;&gt;4 -->\n",
       "<g class=\"edge\" id=\"edge4\"><title>2-&gt;4</title>\n",
       "<path d=\"M183.156,-193.884C188.102,-185.332 193.492,-176.013 198.664,-167.072\" fill=\"none\" stroke=\"black\"/>\n",
       "<polygon fill=\"black\" points=\"201.761,-168.708 203.739,-158.299 195.702,-165.203 201.761,-168.708\" stroke=\"black\"/>\n",
       "</g>\n",
       "<!-- 5 -->\n",
       "<g class=\"node\" id=\"node6\"><title>5</title>\n",
       "<polygon fill=\"none\" points=\"214,-53.5 122,-53.5 122,-0.5 214,-0.5 214,-53.5\" stroke=\"black\"/>\n",
       "<text font-family=\"Times,serif\" font-size=\"14.00\" text-anchor=\"middle\" x=\"168\" y=\"-38.3\">entropy = 0.0</text>\n",
       "<text font-family=\"Times,serif\" font-size=\"14.00\" text-anchor=\"middle\" x=\"168\" y=\"-23.3\">samples = 1</text>\n",
       "<text font-family=\"Times,serif\" font-size=\"14.00\" text-anchor=\"middle\" x=\"168\" y=\"-8.3\">value = [1, 0]</text>\n",
       "</g>\n",
       "<!-- 4&#45;&gt;5 -->\n",
       "<g class=\"edge\" id=\"edge5\"><title>4-&gt;5</title>\n",
       "<path d=\"M203.764,-89.7736C198.606,-80.8648 193.021,-71.2175 187.831,-62.2542\" fill=\"none\" stroke=\"black\"/>\n",
       "<polygon fill=\"black\" points=\"190.844,-60.4721 182.805,-53.5715 184.786,-63.9794 190.844,-60.4721\" stroke=\"black\"/>\n",
       "</g>\n",
       "<!-- 6 -->\n",
       "<g class=\"node\" id=\"node7\"><title>6</title>\n",
       "<polygon fill=\"none\" points=\"324,-53.5 232,-53.5 232,-0.5 324,-0.5 324,-53.5\" stroke=\"black\"/>\n",
       "<text font-family=\"Times,serif\" font-size=\"14.00\" text-anchor=\"middle\" x=\"278\" y=\"-38.3\">entropy = 0.0</text>\n",
       "<text font-family=\"Times,serif\" font-size=\"14.00\" text-anchor=\"middle\" x=\"278\" y=\"-23.3\">samples = 1</text>\n",
       "<text font-family=\"Times,serif\" font-size=\"14.00\" text-anchor=\"middle\" x=\"278\" y=\"-8.3\">value = [0, 1]</text>\n",
       "</g>\n",
       "<!-- 4&#45;&gt;6 -->\n",
       "<g class=\"edge\" id=\"edge6\"><title>4-&gt;6</title>\n",
       "<path d=\"M242.236,-89.7736C247.394,-80.8648 252.979,-71.2175 258.169,-62.2542\" fill=\"none\" stroke=\"black\"/>\n",
       "<polygon fill=\"black\" points=\"261.214,-63.9794 263.195,-53.5715 255.156,-60.4721 261.214,-63.9794\" stroke=\"black\"/>\n",
       "</g>\n",
       "</g>\n",
       "</svg>"
      ],
      "text/plain": [
       "<IPython.core.display.SVG object>"
      ]
     },
     "execution_count": 7,
     "metadata": {},
     "output_type": "execute_result"
    }
   ],
   "source": [
    "#Visualize the decision tree\n",
    "graph = Source(export_graphviz(d_tree, out_file=None, feature_names=X.columns))\n",
    "SVG(graph.pipe(format='svg'))"
   ]
  },
  {
   "cell_type": "code",
   "execution_count": null,
   "metadata": {},
   "outputs": [],
   "source": []
  }
 ],
 "metadata": {
  "kernelspec": {
   "display_name": "Python 3.5 with Spark 2.1",
   "language": "python",
   "name": "python3-spark21"
  },
  "language_info": {
   "codemirror_mode": {
    "name": "ipython",
    "version": 3
   },
   "file_extension": ".py",
   "mimetype": "text/x-python",
   "name": "python",
   "nbconvert_exporter": "python",
   "pygments_lexer": "ipython3",
   "version": "3.5.4"
  }
 },
 "nbformat": 4,
 "nbformat_minor": 1
}
